{
 "cells": [
  {
   "cell_type": "code",
   "execution_count": null,
   "metadata": {},
   "outputs": [],
   "source": [
    "# Import necessary libraries\n",
    "import sqlalchemy\n",
    "import pandas as pd\n",
    "import matplotlib.pyplot as plt\n",
    "from sqlalchemy import create_engine, inspect\n",
    "from sqlalchemy.ext.automap import automap_base\n",
    "from sqlalchemy.orm import Session\n",
    "from sqlalchemy import func\n",
    "\n",
    "# Create an engine to connect to the database\n",
    "database_path = \"C:/Users/messa/SQLalchemy-challenge/Resources/hawaii.sqlite\"\n",
    "engine = create_engine(f\"sqlite:///{database_path}\")\n",
    "\n",
    "# Reflect the database tables into classes\n",
    "Base = automap_base()\n",
    "Base.prepare(engine, reflect=True)\n",
    "\n",
    "# Save references to the classes\n",
    "Station = Base.classes.station\n",
    "Measurement = Base.classes.measurement\n",
    "\n",
    "# Create a session to interact with the database\n",
    "session = Session(engine)\n"
   ]
  },
  {
   "cell_type": "code",
   "execution_count": null,
   "metadata": {},
   "outputs": [],
   "source": [
    "from sqlalchemy import func\n",
    "\n",
    "most_recent_date = session.query(func.max(Measurement.date)).scalar()\n",
    "print(\"Most recent date:\", most_recent_date)\n"
   ]
  },
  {
   "cell_type": "code",
   "execution_count": null,
   "metadata": {},
   "outputs": [],
   "source": [
    "from datetime import datetime, timedelta\n",
    "\n",
    "# Calculate the date 12 months ago from the most recent date\n",
    "one_year_ago = datetime.strptime(most_recent_date, \"%Y-%m-%d\") - timedelta(days=365)\n",
    "\n",
    "# Query the precipitation data for the last 12 months\n",
    "precipitation_data = session.query(Measurement.date, Measurement.prcp).\\\n",
    "    filter(Measurement.date >= one_year_ago).all()\n"
   ]
  },
  {
   "cell_type": "code",
   "execution_count": null,
   "metadata": {},
   "outputs": [],
   "source": [
    "# Load data into a DataFrame\n",
    "precipitation_df = pd.DataFrame(precipitation_data, columns=[\"date\", \"prcp\"])\n",
    "\n",
    "# Sort DataFrame values by date\n",
    "precipitation_df.sort_values(\"date\", inplace=True)\n",
    "\n",
    "# Plot the precipitation data\n",
    "plt.figure(figsize=(10, 6))\n",
    "plt.bar(precipitation_df[\"date\"], precipitation_df[\"prcp\"], label=\"precipitation\")\n",
    "plt.xlabel(\"Date\")\n",
    "plt.ylabel(\"Precipitation (inches)\")\n",
    "plt.title(\"Precipitation in the Last 12 Months\")\n",
    "plt.xticks(rotation=45)\n",
    "plt.legend()\n",
    "plt.tight_layout()\n",
    "plt.show()\n"
   ]
  },
  {
   "cell_type": "code",
   "execution_count": null,
   "metadata": {},
   "outputs": [],
   "source": [
    "summary_stats = precipitation_df.describe()\n",
    "print(summary_stats)\n"
   ]
  },
  {
   "cell_type": "code",
   "execution_count": null,
   "metadata": {},
   "outputs": [],
   "source": [
    "total_stations = session.query(Station.station).count()\n",
    "print(\"Total number of stations:\", total_stations)\n"
   ]
  },
  {
   "cell_type": "code",
   "execution_count": null,
   "metadata": {},
   "outputs": [],
   "source": [
    "from sqlalchemy import func\n",
    "\n",
    "# Query to list stations and observation counts in descending order\n",
    "most_active_stations = session.query(Measurement.station, func.count(Measurement.station)).\\\n",
    "    group_by(Measurement.station).\\\n",
    "    order_by(func.count(Measurement.station).desc()).all()\n",
    "\n",
    "# Extract the most active station and its observation count\n",
    "most_active_station = most_active_stations[0][0]\n",
    "most_active_count = most_active_stations[0][1]\n",
    "\n",
    "print(\"Most active station:\", most_active_station)\n",
    "print(\"Observation count:\", most_active_count)\n"
   ]
  },
  {
   "cell_type": "code",
   "execution_count": null,
   "metadata": {},
   "outputs": [],
   "source": [
    "lowest_temp = session.query(func.min(Measurement.tobs)).filter(Measurement.station == most_active_station).scalar()\n",
    "highest_temp = session.query(func.max(Measurement.tobs)).filter(Measurement.station == most_active_station).scalar()\n",
    "avg_temp = session.query(func.avg(Measurement.tobs)).filter(Measurement.station == most_active_station).scalar()\n",
    "\n",
    "print(\"Lowest temperature:\", lowest_temp)\n",
    "print(\"Highest temperature:\", highest_temp)\n",
    "print(\"Average temperature:\", avg_temp)\n"
   ]
  },
  {
   "cell_type": "code",
   "execution_count": null,
   "metadata": {},
   "outputs": [],
   "source": [
    "from datetime import datetime, timedelta\n",
    "\n",
    "# Calculate the date 12 months ago from the most recent date\n",
    "one_year_ago = datetime.strptime(most_recent_date, \"%Y-%m-%d\") - timedelta(days=365)\n",
    "\n",
    "# Query TOBS data for the most-active station for the last 12 months\n",
    "tobs_data = session.query(Measurement.tobs).\\\n",
    "    filter(Measurement.station == most_active_station, Measurement.date >= one_year_ago).all()\n",
    "\n",
    "# Convert to a list for plotting\n",
    "tobs_list = [temp[0] for temp in tobs_data]\n",
    "\n",
    "# Plot histogram\n",
    "plt.figure(figsize=(8, 6))\n",
    "plt.hist(tobs_list, bins=12, label=\"TOBS\")\n",
    "plt.xlabel(\"Temperature (°F)\")\n",
    "plt.ylabel(\"Frequency\")\n",
    "plt.title(\"Temperature Observation Distribution\")\n",
    "plt.legend()\n",
    "plt.tight_layout()\n",
    "plt.show()\n"
   ]
  },
  {
   "cell_type": "code",
   "execution_count": null,
   "metadata": {},
   "outputs": [],
   "source": [
    "    session.close()\n"
   ]
  },
  {
   "cell_type": "code",
   "execution_count": null,
   "metadata": {},
   "outputs": [],
   "source": [
    "# Import necessary libraries\n",
    "from flask import Flask, jsonify\n",
    "\n",
    "# Create a Flask app\n",
    "app = Flask(__name__)\n",
    "\n",
    "# Define the home route to list available routes\n",
    "@app.route(\"/\")\n",
    "def home():\n",
    "    return (\n",
    "        \"Available Routes:<br/>\"\n",
    "        \"/api/v1.0/precipitation<br/>\"\n",
    "        \"/api/v1.0/stations<br/>\"\n",
    "        \"/api/v1.0/tobs<br/>\"\n",
    "        \"/api/v1.0/<start><br/>\"\n",
    "        \"/api/v1.0/<start>/<end><br/>\"\n",
    "    )\n",
    "\n"
   ]
  },
  {
   "cell_type": "code",
   "execution_count": null,
   "metadata": {},
   "outputs": [],
   "source": [
    "# Import necessary libraries\n",
    "from flask import Flask, jsonify\n",
    "\n",
    "# Create a Flask app\n",
    "app = Flask(__name__)\n",
    "\n",
    "# Define the home route to list available routes\n",
    "@app.route(\"/\")\n",
    "def home():\n",
    "    return (\n",
    "        \"Welcome to the Climate Analysis API!<br/>\"\n",
    "        \"Available Routes:<br/>\"\n",
    "        \"/api/v1.0/precipitation<br/>\"\n",
    "        \"/api/v1.0/stations<br/>\"\n",
    "        \"/api/v1.0/tobs<br/>\"\n",
    "        \"/api/v1.0/&lt;start&gt;<br/>\"\n",
    "        \"/api/v1.0/&lt;start&gt;/&lt;end&gt;<br/>\"\n",
    "    )\n",
    "\n"
   ]
  },
  {
   "cell_type": "code",
   "execution_count": null,
   "metadata": {},
   "outputs": [],
   "source": [
    "# Define the /api/v1.0/precipitation route\n",
    "@app.route(\"/api/v1.0/precipitation\")\n",
    "def precipitation():\n",
    "    # Query to retrieve the last 12 months of precipitation data\n",
    "    precipitation_data = session.query(Measurement.date, Measurement.prcp).\\\n",
    "        filter(Measurement.date >= one_year_ago).all()\n",
    "\n",
    "    # Convert the query results to a dictionary using date as the key and prcp as the value\n",
    "    precipitation_dict = {date: prcp for date, prcp in precipitation_data}\n",
    "\n",
    "    # Return the JSON representation of the dictionary\n",
    "    return jsonify(precipitation_dict)\n",
    "\n"
   ]
  },
  {
   "cell_type": "code",
   "execution_count": null,
   "metadata": {},
   "outputs": [],
   "source": [
    "# Define the /api/v1.0/stations route\n",
    "@app.route(\"/api/v1.0/stations\")\n",
    "def stations():\n",
    "    # Query to retrieve the list of stations\n",
    "    stations_list = session.query(Station.station).all()\n",
    "\n",
    "    # Flatten the list of tuples into a single list\n",
    "    stations_flat = [station[0] for station in stations_list]\n",
    "\n",
    "    # Return a JSON list of station names\n",
    "    return jsonify(stations_flat)\n"
   ]
  },
  {
   "cell_type": "code",
   "execution_count": null,
   "metadata": {},
   "outputs": [],
   "source": [
    "# Define the /api/v1.0/tobs route\n",
    "@app.route(\"/api/v1.0/tobs\")\n",
    "def tobs():\n",
    "    # Query to retrieve temperature observations for the most-active station for the previous year\n",
    "    tobs_data = session.query(Measurement.date, Measurement.tobs).\\\n",
    "        filter(Measurement.station == most_active_station, Measurement.date >= one_year_ago).all()\n",
    "\n",
    "    # Convert the query results to a list of temperature values\n",
    "    tobs_list = [tobs for date, tobs in tobs_data]\n",
    "\n",
    "    # Return a JSON list of temperature observations\n",
    "    return jsonify(tobs_list)\n",
    "    "
   ]
  },
  {
   "cell_type": "code",
   "execution_count": null,
   "metadata": {},
   "outputs": [],
   "source": [
    "# Define the /api/v1.0/<start> and /api/v1.0/<start>/<end> routes\n",
    "@app.route(\"/api/v1.0/<start>\")\n",
    "@app.route(\"/api/v1.0/<start>/<end>\")\n",
    "def temperature_range(start, end=None):\n",
    "    # Query to calculate min, avg, and max temperatures for the specified range\n",
    "    if end is None:\n",
    "        temperature_data = session.query(func.min(Measurement.tobs), func.avg(Measurement.tobs), func.max(Measurement.tobs)).\\\n",
    "            filter(Measurement.date >= start).all()\n",
    "    else:\n",
    "        temperature_data = session.query(func.min(Measurement.tobs), func.avg(Measurement.tobs), func.max(Measurement.tobs)).\\\n",
    "            filter(Measurement.date >= start, Measurement.date <= end).all()\n",
    "\n",
    "    # Create a dictionary with keys for each statistic\n",
    "    temperature_dict = {\n",
    "        \"min_temperature\": temperature_data[0][0],\n",
    "        \"avg_temperature\": temperature_data[0][1],\n",
    "        \"max_temperature\": temperature_data[0][2]\n",
    "    }\n",
    "\n",
    "    # Return a JSON representation of the dictionary\n",
    "    return jsonify(temperature_dict)\n"
   ]
  },
  {
   "cell_type": "code",
   "execution_count": null,
   "metadata": {},
   "outputs": [],
   "source": [
    "# Run the app\n",
    "if __name__ == \"__main__\":\n",
    "    app.run(debug=True)"
   ]
  }
 ],
 "metadata": {
  "kernelspec": {
   "display_name": "Python 3",
   "language": "python",
   "name": "python3"
  },
  "language_info": {
   "codemirror_mode": {
    "name": "ipython",
    "version": 3
   },
   "file_extension": ".py",
   "mimetype": "text/x-python",
   "name": "python",
   "nbconvert_exporter": "python",
   "pygments_lexer": "ipython3",
   "version": "3.11.4"
  },
  "orig_nbformat": 4
 },
 "nbformat": 4,
 "nbformat_minor": 2
}
